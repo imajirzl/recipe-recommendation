{
 "cells": [
  {
   "cell_type": "code",
   "execution_count": 2,
   "metadata": {},
   "outputs": [
    {
     "ename": "FileNotFoundError",
     "evalue": "[Errno 2] No such file or directory: '/Users/akiel/Desktop/Imaji/Advanced Programming/notebooks and data/final_project/recipe-recommendation/Downloads/bbc_recipes_ingredients.txt'",
     "output_type": "error",
     "traceback": [
      "\u001b[0;31m---------------------------------------------------------------------------\u001b[0m",
      "\u001b[0;31mFileNotFoundError\u001b[0m                         Traceback (most recent call last)",
      "Cell \u001b[0;32mIn[2], line 1\u001b[0m\n\u001b[0;32m----> 1\u001b[0m \u001b[38;5;28;01mwith\u001b[39;00m \u001b[38;5;28mopen\u001b[39m(\u001b[38;5;124m\"\u001b[39m\u001b[38;5;124m/Users/akiel/Desktop/Imaji/Advanced Programming/notebooks and data/final_project/recipe-recommendation/Downloads/bbc_recipes_ingredients.txt\u001b[39m\u001b[38;5;124m\"\u001b[39m, \u001b[38;5;124m\"\u001b[39m\u001b[38;5;124mr\u001b[39m\u001b[38;5;124m\"\u001b[39m) \u001b[38;5;28;01mas\u001b[39;00m file:\n\u001b[1;32m      2\u001b[0m     \u001b[38;5;28;01mfor\u001b[39;00m _ \u001b[38;5;129;01min\u001b[39;00m \u001b[38;5;28mrange\u001b[39m(\u001b[38;5;241m10\u001b[39m):\n\u001b[1;32m      3\u001b[0m         \u001b[38;5;28mprint\u001b[39m(file\u001b[38;5;241m.\u001b[39mreadline()\u001b[38;5;241m.\u001b[39mstrip())\n",
      "File \u001b[0;32m/opt/anaconda3/lib/python3.11/site-packages/IPython/core/interactiveshell.py:284\u001b[0m, in \u001b[0;36m_modified_open\u001b[0;34m(file, *args, **kwargs)\u001b[0m\n\u001b[1;32m    277\u001b[0m \u001b[38;5;28;01mif\u001b[39;00m file \u001b[38;5;129;01min\u001b[39;00m {\u001b[38;5;241m0\u001b[39m, \u001b[38;5;241m1\u001b[39m, \u001b[38;5;241m2\u001b[39m}:\n\u001b[1;32m    278\u001b[0m     \u001b[38;5;28;01mraise\u001b[39;00m \u001b[38;5;167;01mValueError\u001b[39;00m(\n\u001b[1;32m    279\u001b[0m         \u001b[38;5;124mf\u001b[39m\u001b[38;5;124m\"\u001b[39m\u001b[38;5;124mIPython won\u001b[39m\u001b[38;5;124m'\u001b[39m\u001b[38;5;124mt let you open fd=\u001b[39m\u001b[38;5;132;01m{\u001b[39;00mfile\u001b[38;5;132;01m}\u001b[39;00m\u001b[38;5;124m by default \u001b[39m\u001b[38;5;124m\"\u001b[39m\n\u001b[1;32m    280\u001b[0m         \u001b[38;5;124m\"\u001b[39m\u001b[38;5;124mas it is likely to crash IPython. If you know what you are doing, \u001b[39m\u001b[38;5;124m\"\u001b[39m\n\u001b[1;32m    281\u001b[0m         \u001b[38;5;124m\"\u001b[39m\u001b[38;5;124myou can use builtins\u001b[39m\u001b[38;5;124m'\u001b[39m\u001b[38;5;124m open.\u001b[39m\u001b[38;5;124m\"\u001b[39m\n\u001b[1;32m    282\u001b[0m     )\n\u001b[0;32m--> 284\u001b[0m \u001b[38;5;28;01mreturn\u001b[39;00m io_open(file, \u001b[38;5;241m*\u001b[39margs, \u001b[38;5;241m*\u001b[39m\u001b[38;5;241m*\u001b[39mkwargs)\n",
      "\u001b[0;31mFileNotFoundError\u001b[0m: [Errno 2] No such file or directory: '/Users/akiel/Desktop/Imaji/Advanced Programming/notebooks and data/final_project/recipe-recommendation/Downloads/bbc_recipes_ingredients.txt'"
     ]
    }
   ],
   "source": [
    "with open(\"/Users/akiel/Desktop/Imaji/Advanced Programming/notebooks and data/final_project/recipe-recommendation/Downloads/bbc_recipes_ingredients.txt\", \"r\") as file:\n",
    "    for _ in range(10):\n",
    "        print(file.readline().strip())"
   ]
  },
  {
   "cell_type": "code",
   "execution_count": 3,
   "metadata": {},
   "outputs": [],
   "source": [
    "def load_recipes(filename):\n",
    "    \"\"\"Loads and parses recipes from a text file.\"\"\"\n",
    "    recipes = []\n",
    "    with open(filename, \"r\", encoding=\"utf-8\") as file:\n",
    "        content = file.read().strip().split(\"\\n\\n\")  # Recipes separated by empty lines\n",
    "\n",
    "    for recipe in content:\n",
    "        lines = recipe.strip().split(\"\\n\")\n",
    "        \n",
    "        title = lines[0].strip()\n",
    "        link = lines[1].split(\"Link: \")[1].strip()\n",
    "        ingredients = [line.strip(\"- \").strip().lower() for line in lines[2:]]  # Normalize ingredient format\n",
    "        \n",
    "        recipes.append({\"title\": title, \"link\": link, \"ingredients\": set(ingredients)})\n",
    "\n",
    "    return recipes"
   ]
  },
  {
   "cell_type": "code",
   "execution_count": 4,
   "metadata": {},
   "outputs": [],
   "source": [
    "def search_recipes(recipes, ingredients):\n",
    "    \"\"\"Finds recipes that contain all the given ingredients.\"\"\"\n",
    "    ingredients = set(ingredient.lower().strip() for ingredient in ingredients)  # Normalize input\n",
    "\n",
    "    matching_recipes = [\n",
    "        recipe for recipe in recipes if ingredients.issubset(recipe[\"ingredients\"])\n",
    "    ]\n",
    "\n",
    "    return matching_recipes"
   ]
  },
  {
   "cell_type": "code",
   "execution_count": 7,
   "metadata": {},
   "outputs": [],
   "source": [
    "def main():\n",
    "    filename = \"/Users/akiel/Desktop/Imaji/Advanced Programming/notebooks and data/final_project/recipe-recommendation/Downloads/bbc_recipes_ingredients.txt\"\n",
    "    recipes = load_recipes(filename)\n",
    "\n",
    "    user_input = input(\"Enter ingredients (comma-separated): \").split(\",\")\n",
    "    matching = search_recipes(recipes, user_input)\n",
    "\n",
    "    if matching:\n",
    "        print(\"\\nRecipes found:\")\n",
    "        for recipe in matching:\n",
    "            print(f\"- {recipe['title']} ({recipe['link']})\")\n",
    "    else:\n",
    "        print(\"\\nNo recipes found with those ingredients.\")"
   ]
  },
  {
   "cell_type": "code",
   "execution_count": 12,
   "metadata": {},
   "outputs": [
    {
     "name": "stdout",
     "output_type": "stream",
     "text": [
      "\n",
      "Recipes found:\n",
      "- Chicken and bean burritos: (https://www.bbc.co.uk/food/recipes/chicken_and_bean_18392)\n",
      "- Chicken and cheddar cobbler: (https://www.bbc.co.uk/food/recipes/chicken_and_cheddar_54540)\n",
      "- Chicken and cheese quesadillas: (https://www.bbc.co.uk/food/recipes/chicken_and_cheese_65643)\n",
      "- Chicken fajita wraps: (https://www.bbc.co.uk/food/recipes/chicken_fajitas_92340)\n",
      "- Chicken quesadillas: (https://www.bbc.co.uk/food/recipes/chickenandcheeseques_85536)\n",
      "- Chicken roll and spice bag chips: (https://www.bbc.co.uk/food/recipes/chicken_fillet_roll_and_91412)\n",
      "- Creamy chicken and rice: (https://www.bbc.co.uk/food/recipes/creamy_chicken_and_rice_00172)\n",
      "- JalapeÃ±o chicken burgers with cheddar and corn fritters: (https://www.bbc.co.uk/food/recipes/jalapeo_chicken_burgers_56536)\n",
      "- Quesada (Mexican lasagne): (https://www.bbc.co.uk/food/recipes/quesada_mexican_lasagne_87213)\n",
      "- Smoky chicken quesadillas: (https://www.bbc.co.uk/food/recipes/chicken_quesadillas_14275)\n"
     ]
    }
   ],
   "source": [
    "if __name__ == \"__main__\":\n",
    "    main()"
   ]
  },
  {
   "cell_type": "code",
   "execution_count": null,
   "metadata": {},
   "outputs": [],
   "source": []
  }
 ],
 "metadata": {
  "kernelspec": {
   "display_name": "base",
   "language": "python",
   "name": "python3"
  },
  "language_info": {
   "codemirror_mode": {
    "name": "ipython",
    "version": 3
   },
   "file_extension": ".py",
   "mimetype": "text/x-python",
   "name": "python",
   "nbconvert_exporter": "python",
   "pygments_lexer": "ipython3",
   "version": "3.11.7"
  },
  "orig_nbformat": 4
 },
 "nbformat": 4,
 "nbformat_minor": 2
}
