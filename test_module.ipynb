{
 "cells": [
  {
   "cell_type": "code",
   "execution_count": 9,
   "metadata": {},
   "outputs": [],
   "source": [
    "import web_scraping\n",
    "from string import ascii_lowercase"
   ]
  },
  {
   "cell_type": "code",
   "execution_count": 4,
   "metadata": {},
   "outputs": [
    {
     "data": {
      "text/plain": [
       "['__builtins__',\n",
       " '__cached__',\n",
       " '__doc__',\n",
       " '__file__',\n",
       " '__loader__',\n",
       " '__name__',\n",
       " '__package__',\n",
       " '__path__',\n",
       " '__spec__',\n",
       " 'scrape']"
      ]
     },
     "execution_count": 4,
     "metadata": {},
     "output_type": "execute_result"
    }
   ],
   "source": [
    "dir(web_scraping)"
   ]
  },
  {
   "cell_type": "code",
   "execution_count": 5,
   "metadata": {},
   "outputs": [],
   "source": [
    "from web_scraping.scrape import get_max_pages, extract_links, extract_recipe_details"
   ]
  },
  {
   "cell_type": "code",
   "execution_count": 11,
   "metadata": {},
   "outputs": [],
   "source": [
    "all_recipes = {}\n",
    "base_url = \"https://www.bbc.co.uk/food/recipes/a-z/{alphabet}/{page}#featured-content\""
   ]
  },
  {
   "cell_type": "code",
   "execution_count": 12,
   "metadata": {},
   "outputs": [],
   "source": [
    "for alphabet in ascii_lowercase:\n",
    "    recipe_links = extract_links(alphabet, base_url)\n",
    "    total_recipes = len(recipe_links)\n",
    "    print(f\"{alphabet.upper()}: {total_recipes} recipes\")\n",
    "\n",
    "    for url in recipe_links:\n",
    "        title, ingredients = extract_recipe_details(url)\n",
    "        if title and ingredients:\n",
    "            all_recipes[title] = ingredients"
   ]
  },
  {
   "cell_type": "code",
   "execution_count": null,
   "metadata": {},
   "outputs": [],
   "source": [
    "def scrape_bbc_recipes():\n",
    "    all_recipes = {}\n",
    "    \n",
    "    for alphabet in ascii_lowercase:\n",
    "        recipe_links = extract_recipe_links(alphabet)\n",
    "        total_recipes = len(recipe_links)\n",
    "        print(f\"🔤 Alphabet '{alphabet.upper()}': {total_recipes} recipes\")\n",
    "        \n",
    "        for url in recipe_links:\n",
    "            title, ingredients = extract_recipe_details(url)\n",
    "            if title and ingredients:\n",
    "                all_recipes[title] = ingredients\n",
    "    \n",
    "    return all_recipes"
   ]
  }
 ],
 "metadata": {
  "kernelspec": {
   "display_name": ".venv",
   "language": "python",
   "name": "python3"
  },
  "language_info": {
   "codemirror_mode": {
    "name": "ipython",
    "version": 3
   },
   "file_extension": ".py",
   "mimetype": "text/x-python",
   "name": "python",
   "nbconvert_exporter": "python",
   "pygments_lexer": "ipython3",
   "version": "3.9.6"
  }
 },
 "nbformat": 4,
 "nbformat_minor": 2
}
