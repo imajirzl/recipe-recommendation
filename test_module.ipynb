{
 "cells": [
  {
   "cell_type": "code",
   "execution_count": 1,
   "metadata": {},
   "outputs": [
    {
     "name": "stderr",
     "output_type": "stream",
     "text": [
      "/Users/akiel/Desktop/Imaji/Advanced Programming/notebooks and data/final_project/recipe-recommendation/.venv/lib/python3.9/site-packages/urllib3/__init__.py:35: NotOpenSSLWarning: urllib3 v2 only supports OpenSSL 1.1.1+, currently the 'ssl' module is compiled with 'LibreSSL 2.8.3'. See: https://github.com/urllib3/urllib3/issues/3020\n",
      "  warnings.warn(\n"
     ]
    }
   ],
   "source": [
    "import web_scraping\n",
    "from string import ascii_lowercase\n",
    "import requests\n",
    "from bs4 import BeautifulSoup"
   ]
  },
  {
   "cell_type": "code",
   "execution_count": 2,
   "metadata": {},
   "outputs": [
    {
     "data": {
      "text/plain": [
       "['__builtins__',\n",
       " '__cached__',\n",
       " '__doc__',\n",
       " '__file__',\n",
       " '__loader__',\n",
       " '__name__',\n",
       " '__package__',\n",
       " '__path__',\n",
       " '__spec__',\n",
       " 'scrape']"
      ]
     },
     "execution_count": 2,
     "metadata": {},
     "output_type": "execute_result"
    }
   ],
   "source": [
    "dir(web_scraping)"
   ]
  },
  {
   "cell_type": "code",
   "execution_count": 3,
   "metadata": {},
   "outputs": [],
   "source": [
    "from web_scraping.scrape import extract_links, extract_recipe_details"
   ]
  },
  {
   "cell_type": "code",
   "execution_count": 4,
   "metadata": {},
   "outputs": [],
   "source": [
    "recipe_links = []\n",
    "all_recipes = {}\n",
    "base_url = \"https://www.bbc.co.uk/food/recipes/a-z/{alphabet}/{page}#featured-content\""
   ]
  },
  {
   "cell_type": "code",
   "execution_count": 5,
   "metadata": {},
   "outputs": [],
   "source": [
    "alphabets = ['a', 'b', 'c', 'd', 'e', 'f', 'g', 'h', 'i', 'j', 'k', 'l', 'm', 'n', 'o', 'p', 'q', 'r', 's', 't', 'u', 'v', 'w', 'y', 'z', '0-9']"
   ]
  },
  {
   "cell_type": "code",
   "execution_count": 8,
   "metadata": {},
   "outputs": [
    {
     "name": "stdout",
     "output_type": "stream",
     "text": [
      "Extracted 297 links for A\n",
      "Extracted 856 links for B\n",
      "Extracted 1552 links for C\n",
      "Extracted 133 links for D\n",
      "Extracted 280 links for E\n",
      "Extracted 330 links for F\n",
      "Extracted 411 links for G\n",
      "Extracted 415 links for H\n",
      "Extracted 82 links for I\n",
      "Extracted 88 links for J\n",
      "Extracted 118 links for K\n",
      "Extracted 398 links for L\n",
      "Extracted 610 links for M\n",
      "Extracted 94 links for N\n",
      "Extracted 123 links for O\n",
      "Extracted 868 links for P\n",
      "Extracted 67 links for Q\n",
      "Extracted 556 links for R\n",
      "Extracted 1511 links for S\n",
      "Extracted 492 links for T\n",
      "Extracted 20 links for U\n",
      "Extracted 294 links for V\n",
      "Extracted 164 links for W\n",
      "Extracted 17 links for Y\n",
      "Extracted 8 links for Z\n",
      "Extracted 14 links for 0-9\n"
     ]
    }
   ],
   "source": [
    "for alphabet in alphabets:\n",
    "    recipe_links.extend(extract_links(alphabet, base_url))\n"
   ]
  },
  {
   "cell_type": "code",
   "execution_count": 10,
   "metadata": {},
   "outputs": [],
   "source": [
    "for url in recipe_links:\n",
    "    title, ingredients = extract_recipe_details(url)\n",
    "    if title and ingredients:\n",
    "        all_recipes[title] = ingredients"
   ]
  },
  {
   "cell_type": "code",
   "execution_count": null,
   "metadata": {},
   "outputs": [],
   "source": [
    "with open(\"bbc_recipes_ingredients.txt\", \"w\") as file:\n",
    "    for title, ingredients in all_recipes.items():\n",
    "        file.write(f\"{recipe}:\\n\")\n",
    "        for ingredient in ingredients:\n",
    "            file.write(f\"- {ingredient}\\n\")\n",
    "        file.write(\"\\n\")"
   ]
  }
 ],
 "metadata": {
  "kernelspec": {
   "display_name": ".venv",
   "language": "python",
   "name": "python3"
  },
  "language_info": {
   "codemirror_mode": {
    "name": "ipython",
    "version": 3
   },
   "file_extension": ".py",
   "mimetype": "text/x-python",
   "name": "python",
   "nbconvert_exporter": "python",
   "pygments_lexer": "ipython3",
   "version": "3.9.6"
  }
 },
 "nbformat": 4,
 "nbformat_minor": 2
}
