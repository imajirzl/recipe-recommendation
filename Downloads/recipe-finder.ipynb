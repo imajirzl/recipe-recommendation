{
 "cells": [
  {
   "cell_type": "code",
   "execution_count": 6,
   "metadata": {},
   "outputs": [
    {
     "name": "stdout",
     "output_type": "stream",
     "text": [
      "A return to the Black Forest:\n",
      "Link: https://www.bbc.co.uk/food/recipes/areturntotheblackfor_67199\n",
      "- caster sugar\n",
      "- cherries\n",
      "- cherry\n",
      "- cherry brandy\n",
      "- cocoa powder\n",
      "- dark chocolate\n",
      "- double cream\n",
      "- eggs\n"
     ]
    }
   ],
   "source": [
    "with open(\"/Users/tessapino/Downloads/bbc_recipes_ingredients.txt\", \"r\") as file:\n",
    "    for _ in range(10):\n",
    "        print(file.readline().strip())"
   ]
  },
  {
   "cell_type": "code",
   "execution_count": 7,
   "metadata": {},
   "outputs": [],
   "source": [
    "def load_recipes(filename):\n",
    "    \"\"\"Loads and parses recipes from a text file.\"\"\"\n",
    "    recipes = []\n",
    "    with open(filename, \"r\", encoding=\"utf-8\") as file:\n",
    "        content = file.read().strip().split(\"\\n\\n\")  # Recipes separated by empty lines\n",
    "\n",
    "    for recipe in content:\n",
    "        lines = recipe.strip().split(\"\\n\")\n",
    "        if len(lines) < 2:\n",
    "            continue\n",
    "        \n",
    "        title = lines[0].strip()\n",
    "        link = lines[1].split(\"Link: \")[1].strip()\n",
    "        ingredients = [line.strip(\"- \").strip().lower() for line in lines[2:]]  # Normalize ingredient format\n",
    "        \n",
    "        recipes.append({\"title\": title, \"link\": link, \"ingredients\": set(ingredients)})\n",
    "\n",
    "    return recipes"
   ]
  },
  {
   "cell_type": "code",
   "execution_count": 8,
   "metadata": {},
   "outputs": [],
   "source": [
    "def search_recipes(recipes, ingredients):\n",
    "    \"\"\"Finds recipes that contain all the given ingredients.\"\"\"\n",
    "    ingredients = set(ingredient.lower().strip() for ingredient in ingredients)  # Normalize input\n",
    "\n",
    "    matching_recipes = [\n",
    "        recipe for recipe in recipes if ingredients.issubset(recipe[\"ingredients\"])\n",
    "    ]\n",
    "\n",
    "    return matching_recipes"
   ]
  },
  {
   "cell_type": "code",
   "execution_count": 9,
   "metadata": {},
   "outputs": [],
   "source": [
    "def main():\n",
    "    filename = \"/Users/tessapino/Downloads/bbc_recipes_ingredients.txt\"\n",
    "    recipes = load_recipes(filename)\n",
    "\n",
    "    user_input = input(\"Enter ingredients (comma-separated): \").split(\",\")\n",
    "    matching = search_recipes(recipes, user_input)\n",
    "\n",
    "    if matching:\n",
    "        print(\"\\nRecipes found:\")\n",
    "        for recipe in matching:\n",
    "            print(f\"- {recipe['title']} ({recipe['link']})\")\n",
    "    else:\n",
    "        print(\"\\nNo recipes found with those ingredients.\")"
   ]
  },
  {
   "cell_type": "code",
   "execution_count": 10,
   "metadata": {},
   "outputs": [
    {
     "name": "stdout",
     "output_type": "stream",
     "text": [
      "\n",
      "Recipes found:\n",
      "- Broccoli soup with cheese scones: (https://www.bbc.co.uk/food/recipes/broccolisoupwithchee_80568)\n",
      "- Pan-fried gnocchi with spring vegetables and basil oil: (https://www.bbc.co.uk/food/recipes/pan-fried_gnocchi_with_46724)\n",
      "- Poached chicken, leek and tarragon pie: (https://www.bbc.co.uk/food/recipes/chicken_leek_tarragon_72824)\n"
     ]
    }
   ],
   "source": [
    "if __name__ == \"__main__\":\n",
    "    main()"
   ]
  }
 ],
 "metadata": {
  "kernelspec": {
   "display_name": "base",
   "language": "python",
   "name": "python3"
  },
  "language_info": {
   "codemirror_mode": {
    "name": "ipython",
    "version": 3
   },
   "file_extension": ".py",
   "mimetype": "text/x-python",
   "name": "python",
   "nbconvert_exporter": "python",
   "pygments_lexer": "ipython3",
   "version": "3.11.7"
  },
  "orig_nbformat": 4
 },
 "nbformat": 4,
 "nbformat_minor": 2
}
